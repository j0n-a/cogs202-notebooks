{
 "cells": [
  {
   "cell_type": "markdown",
   "id": "d6dd08bf",
   "metadata": {},
   "source": [
    "# Assignment 1\n",
    "**Course:** Computational Modeling of Cognition (COGS202)\n",
    "    \n",
    "---\n",
    "\n",
    "## General Instructions\n",
    "\n",
    "- **Answer format**  \n",
    "  - **Conceptual questions:** fill in the *Markdown* cells with your written responses.  \n",
    "  - **Implementation tasks:** complete the *code* cells with your solutions.\n",
    "\n",
    "- **Submission requirements**  \n",
    "  1. **Jupyter Notebook** (`.ipynb`) with all cells executed and outputs visible.  \n",
    "  2. **PDF Export** of the same notebook (e.g. via **File → Download As → PDF**).  \n",
    "\n",
    "- **Collaboration policy**  \n",
    "  - You may work in **teams of up to 2 students**.  \n",
    "  - Include both team members’ names and student IDs at the top of your notebook.  \n",
    "\n",
    "- **Questions & Support**  \n",
    "  - Use our Slack workspace for any clarifications or troubleshooting.  \n",
    "  - Feel free to set up an OH appointment. \n",
    "\n",
    "\n",
    "If you’re new to Jupyter Notebooks, Python, or libraries like NumPy and Pandas, check out these tutorials to get started:  \n",
    "[COGS202 Python Libraries Tutorials](https://github.com/mkhosla-ucsd/cogs202-notebooks/tree/main/python_libraries_tutorials)  "
   ]
  },
  {
   "cell_type": "markdown",
   "id": "4c2b24a0",
   "metadata": {},
   "source": [
    "## Section I: Computational Modeling of Human Reading Times\n",
    "\n",
    "### Reading‑Time Dataset\n",
    "\n",
    "In the first section of the assignment, we will try to model human reading times for different words using several word-level features. We will load a human reading‑time dataset collected by Futrell et al. (https://link.springer.com/article/10.1007/s10579-020-09503-7) into a Pandas DataFrame. Pandas is a powerful Python library for data manipulation and analysis—see the [official documentation](https://pandas.pydata.org/docs/) for more details and check out the tutorial linked above if you want to learn more.\n",
    "\n",
    "```python\n",
    "import pandas as pd\n",
    "df = pd.read_csv('futrell_reading_times_dataset.csv')\n"
   ]
  },
  {
   "cell_type": "code",
   "execution_count": 1,
   "id": "55b3ee93",
   "metadata": {},
   "outputs": [
    {
     "name": "stdout",
     "output_type": "stream",
     "text": [
      "Requirement already satisfied: pandas in /Users/jonathanahern/miniconda3/envs/everything/lib/python3.12/site-packages (2.2.2)\n",
      "Requirement already satisfied: statsmodels in /Users/jonathanahern/miniconda3/envs/everything/lib/python3.12/site-packages (0.14.4)\n",
      "Requirement already satisfied: scikit-learn in /Users/jonathanahern/miniconda3/envs/everything/lib/python3.12/site-packages (1.6.1)\n",
      "Requirement already satisfied: numpy in /Users/jonathanahern/miniconda3/envs/everything/lib/python3.12/site-packages (1.26.4)\n",
      "Requirement already satisfied: matplotlib in /Users/jonathanahern/miniconda3/envs/everything/lib/python3.12/site-packages (3.10.0)\n",
      "Requirement already satisfied: scipy in /Users/jonathanahern/miniconda3/envs/everything/lib/python3.12/site-packages (1.14.1)\n",
      "Requirement already satisfied: torch in /Users/jonathanahern/miniconda3/envs/everything/lib/python3.12/site-packages (2.7.0)\n",
      "Requirement already satisfied: torchvision in /Users/jonathanahern/miniconda3/envs/everything/lib/python3.12/site-packages (0.22.0)\n",
      "Requirement already satisfied: pillow in /Users/jonathanahern/miniconda3/envs/everything/lib/python3.12/site-packages (11.1.0)\n",
      "Requirement already satisfied: python-dateutil>=2.8.2 in /Users/jonathanahern/miniconda3/envs/everything/lib/python3.12/site-packages (from pandas) (2.9.0.post0)\n",
      "Requirement already satisfied: pytz>=2020.1 in /Users/jonathanahern/miniconda3/envs/everything/lib/python3.12/site-packages (from pandas) (2024.1)\n",
      "Requirement already satisfied: tzdata>=2022.7 in /Users/jonathanahern/miniconda3/envs/everything/lib/python3.12/site-packages (from pandas) (2023.3)\n",
      "Requirement already satisfied: patsy>=0.5.6 in /Users/jonathanahern/miniconda3/envs/everything/lib/python3.12/site-packages (from statsmodels) (0.5.6)\n",
      "Requirement already satisfied: packaging>=21.3 in /Users/jonathanahern/miniconda3/envs/everything/lib/python3.12/site-packages (from statsmodels) (24.1)\n",
      "Requirement already satisfied: joblib>=1.2.0 in /Users/jonathanahern/miniconda3/envs/everything/lib/python3.12/site-packages (from scikit-learn) (1.4.2)\n",
      "Requirement already satisfied: threadpoolctl>=3.1.0 in /Users/jonathanahern/miniconda3/envs/everything/lib/python3.12/site-packages (from scikit-learn) (3.6.0)\n",
      "Requirement already satisfied: contourpy>=1.0.1 in /Users/jonathanahern/miniconda3/envs/everything/lib/python3.12/site-packages (from matplotlib) (1.3.1)\n",
      "Requirement already satisfied: cycler>=0.10 in /Users/jonathanahern/miniconda3/envs/everything/lib/python3.12/site-packages (from matplotlib) (0.11.0)\n",
      "Requirement already satisfied: fonttools>=4.22.0 in /Users/jonathanahern/miniconda3/envs/everything/lib/python3.12/site-packages (from matplotlib) (4.55.3)\n",
      "Requirement already satisfied: kiwisolver>=1.3.1 in /Users/jonathanahern/miniconda3/envs/everything/lib/python3.12/site-packages (from matplotlib) (1.4.8)\n",
      "Requirement already satisfied: pyparsing>=2.3.1 in /Users/jonathanahern/miniconda3/envs/everything/lib/python3.12/site-packages (from matplotlib) (3.2.0)\n",
      "Requirement already satisfied: filelock in /Users/jonathanahern/miniconda3/envs/everything/lib/python3.12/site-packages (from torch) (3.18.0)\n",
      "Requirement already satisfied: typing-extensions>=4.10.0 in /Users/jonathanahern/miniconda3/envs/everything/lib/python3.12/site-packages (from torch) (4.13.2)\n",
      "Requirement already satisfied: setuptools in /Users/jonathanahern/miniconda3/envs/everything/lib/python3.12/site-packages (from torch) (72.1.0)\n",
      "Requirement already satisfied: sympy>=1.13.3 in /Users/jonathanahern/miniconda3/envs/everything/lib/python3.12/site-packages (from torch) (1.14.0)\n",
      "Requirement already satisfied: networkx in /Users/jonathanahern/miniconda3/envs/everything/lib/python3.12/site-packages (from torch) (3.4.2)\n",
      "Requirement already satisfied: jinja2 in /Users/jonathanahern/miniconda3/envs/everything/lib/python3.12/site-packages (from torch) (3.1.6)\n",
      "Requirement already satisfied: fsspec in /Users/jonathanahern/miniconda3/envs/everything/lib/python3.12/site-packages (from torch) (2025.3.2)\n",
      "Requirement already satisfied: six in /Users/jonathanahern/miniconda3/envs/everything/lib/python3.12/site-packages (from patsy>=0.5.6->statsmodels) (1.16.0)\n",
      "Requirement already satisfied: mpmath<1.4,>=1.1.0 in /Users/jonathanahern/miniconda3/envs/everything/lib/python3.12/site-packages (from sympy>=1.13.3->torch) (1.3.0)\n",
      "Requirement already satisfied: MarkupSafe>=2.0 in /Users/jonathanahern/miniconda3/envs/everything/lib/python3.12/site-packages (from jinja2->torch) (3.0.2)\n"
     ]
    }
   ],
   "source": [
    "# If you’re missing any of these, run this cell to install all dependencies:\n",
    "!pip install pandas statsmodels scikit-learn numpy matplotlib scipy torch torchvision pillow"
   ]
  },
  {
   "cell_type": "code",
   "execution_count": 2,
   "id": "bf218612",
   "metadata": {},
   "outputs": [],
   "source": [
    "import pandas as pd\n",
    "df = pd.read_csv('futrell_reading_times_dataset.csv')"
   ]
  },
  {
   "cell_type": "markdown",
   "id": "ecbd423f",
   "metadata": {},
   "source": [
    "### Here is some information related to the dataset\n",
    "\n",
    "| Column            | What it Measures                                                          | Why It Matters for Reading‑Time Models                              |\n",
    "|-------------------|---------------------------------------------------------------------------|---------------------------------------------------------------------|\n",
    "| **word**          | Orthographic form (token).                                                | —                                                                   |\n",
    "| **mean_RT**       | Mean reading time for the word (ms), averaged across readers.             | This is the response variable you will model.                       |\n",
    "| **chars**         | Number of characters in the word (`len(word)`).                         | Longer strings often require more visual processing.                |\n",
    "| **log_freq**      | **Log‑scaled corpus frequency**: `log10(count / corpus_size)`.            | More frequent words have stronger memory traces, predicting shorter reading times. |\n",
    "| **gpt2S_surp**    | **Unigram surprisal (GPT‑2 Small)**: $-\\log p(w)$ assigned by GPT‑2 Small in isolation. | Captures lexical rarity under a lightweight transformer model.      |\n",
    "| **gpt2B_surp**    | **Unigram surprisal (GPT‑2 Base)**: $-\\log p(w)$ assigned by GPT‑2 Base in isolation.  | Reflects how a medium‑scale model estimates word predictability.    |\n",
    "| **gpt2L_surp**    | **Unigram surprisal (GPT‑2 Large)**: $-\\log p(w)$ assigned by GPT‑2 Large in isolation. | Provides insights from a high‑capacity transformer on lexical predictability. |\n",
    "\n",
    "### Conceptual Notes on Some Predictors\n",
    "\n",
    "* **Word Frequency (`log_freq`)**  \n",
    "  In psycholinguistics, more frequent words have been shown to have stronger memory traces. Taking the base‑10 logarithm of raw frequency linearizes the Zipf distribution and makes effect sizes interpretable—each unit change corresponds to a ten‑fold change in raw count.\n",
    "\n",
    "* **Unigram Surprisal (`gpt2*_surp`)**  \n",
    "  From information theory, surprisal quantifies how much “information” a word carries:  \n",
    "  $\n",
    "    \\text{surprisal}(w) = -\\log p(w),\n",
    "  $ \n",
    "  where $p(w)$ is the probability assigned by a language model when no context is provided (hence “unigram”).  \n",
    "  - **Low surprisal** (high $p(w)$) → lower processing load  \n",
    "  - **High surprisal** (low $p(w)$) → higher processing effort  \n",
    "\n",
    "  Comparing surprisal across GPT‑2 Small, Base, and Large allows you to test the robustness of predictability effects across models of increasing scale.\n",
    "\n",
    "You will combine length, frequency, and surprisal predictors to build GLMs that explain variability in **mean_RT**.\n",
    "\n",
    "To model the reading time, we need to first choose a GLM family. \n"
   ]
  },
  {
   "cell_type": "markdown",
   "id": "aad31f1d",
   "metadata": {},
   "source": [
    "### 1. Choosing a GLM Family (Multiple‑Choice)\n",
    "\n",
    "\n",
    "**Visualizing candidate GLM families**\n",
    "\n",
    "Below we generate and plot four common probability distributions for GLM families to build intuition about their shapes and supports:\n",
    "\n",
    "1. **Gaussian (Normal)**   \n",
    "\n",
    "2. **Poisson**  \n",
    "   \n",
    "3. **Bernoulli**  \n",
    "      \n",
    "4. **Gamma**  \n",
    " "
   ]
  },
  {
   "cell_type": "code",
   "execution_count": 3,
   "id": "1aa3631c",
   "metadata": {},
   "outputs": [
    {
     "data": {
      "image/png": "[encoded data removed]",
      "text/plain": [
       "<Figure size 640x480 with 1 Axes>"
      ]
     },
     "metadata": {},
     "output_type": "display_data"
    },
    {
     "data": {
      "image/png": "[encoded data removed]",
      "text/plain": [
       "<Figure size 640x480 with 1 Axes>"
      ]
     },
     "metadata": {},
     "output_type": "display_data"
    },
    {
     "data": {
      "image/png": "[encoded data removed]",
      "text/plain": [
       "<Figure size 640x480 with 1 Axes>"
      ]
     },
     "metadata": {},
     "output_type": "display_data"
    },
    {
     "data": {
      "image/png": "[encoded data removed]",
      "text/plain": [
       "<Figure size 640x480 with 1 Axes>"
      ]
     },
     "metadata": {},
     "output_type": "display_data"
    }
   ],
   "source": [
    "import numpy as np\n",
    "import matplotlib.pyplot as plt\n",
    "from scipy.stats import norm, poisson, bernoulli, gamma\n",
    "\n",
    "# 1. Gaussian (Normal)\n",
    "x_norm = np.linspace(-4, 4, 400)\n",
    "y_norm = norm.pdf(x_norm, loc=0, scale=1)\n",
    "plt.figure()\n",
    "plt.plot(x_norm, y_norm)\n",
    "plt.title('Gaussian (Normal) distribution: μ=0, σ=1')\n",
    "plt.xlabel('x')\n",
    "plt.ylabel('Density')\n",
    "\n",
    "# 2. Poisson\n",
    "k_poisson = np.arange(0, 16)\n",
    "pmf_poisson = poisson.pmf(k_poisson, mu=3)\n",
    "plt.figure()\n",
    "plt.stem(k_poisson, \n",
    "         pmf_poisson, basefmt=\" \", \n",
    "         #use_line_collection=True\n",
    "         )\n",
    "plt.title('Poisson distribution: λ=3')\n",
    "plt.xlabel('k')\n",
    "plt.ylabel('PMF')\n",
    "\n",
    "# 3. Bernoulli\n",
    "k_bern = np.array([0, 1])\n",
    "pmf_bern = bernoulli.pmf(k_bern, p=0.5)\n",
    "plt.figure()\n",
    "plt.stem(k_bern, pmf_bern, basefmt=\" \", \n",
    "        #  use_line_collection=True\n",
    "         )\n",
    "plt.title('Bernoulli distribution: p=0.5')\n",
    "plt.xlabel('k')\n",
    "plt.ylabel('PMF')\n",
    "\n",
    "# 4. Gamma\n",
    "x_gamma = np.linspace(0, 20, 400)\n",
    "y_gamma = gamma.pdf(x_gamma, a=2, scale=2)\n",
    "plt.figure()\n",
    "plt.plot(x_gamma, y_gamma)\n",
    "plt.title('Gamma distribution: shape=2, scale=2')\n",
    "plt.xlabel('x')\n",
    "plt.ylabel('Density')\n",
    "\n",
    "plt.tight_layout()\n",
    "plt.show()\n"
   ]
  },
  {
   "cell_type": "markdown",
   "id": "9c135bb1",
   "metadata": {},
   "source": [
    "Reading times are continuous, strictly positive and typically right‑skewed.   \n",
    "### Question 1. Choosing the GLM Family for RT data: \n",
    "Among the following options, which of the following GLM specifications is most suitable for modelling **mean_RT**? [**1 point**]\n",
    "\n",
    "| Option | Distribution | \n",
    "|--------|--------------|\n",
    "| **A**  | Gaussian     | \n",
    "| **B**  | Poisson      | \n",
    "| **C**  | Bernoulli    | \n",
    "| **D**  | Gamma        | \n",
    "\n",
    "Select one option **and** write 1-2 sentences explaining your choice.\n",
    "\n",
    "Answer: D. Gamma \n",
    "\n",
    "Explanation: It most closly resembles the data because it is positive and right skewed.\n",
    "\n",
    "Hint: you can also try visualizing the distribution of mean RT values with the following code \n",
    "```python\n",
    "import matplotlib.pyplot as plt\n",
    "plt.hist(df['mean_RT'], bins=30, density=True, alpha=0.6, color='g')\n"
   ]
  },
  {
   "cell_type": "code",
   "execution_count": 4,
   "id": "5927d0d3",
   "metadata": {},
   "outputs": [
    {
     "data": {
      "text/plain": [
       "(array([9.24245449e-04, 7.95511261e-03, 1.14375374e-02, 6.81631018e-03,\n",
       "        4.09308699e-03, 1.79897775e-03, 7.09688470e-04, 2.80574511e-04,\n",
       "        3.63096426e-04, 1.65043830e-04, 8.25219151e-05, 1.65043830e-05,\n",
       "        6.60175320e-05, 1.65043830e-05, 1.65043830e-05, 0.00000000e+00,\n",
       "        0.00000000e+00, 0.00000000e+00, 0.00000000e+00, 1.65043830e-05,\n",
       "        4.95131490e-05, 0.00000000e+00, 3.30087660e-05, 0.00000000e+00,\n",
       "        1.65043830e-05, 0.00000000e+00, 0.00000000e+00, 0.00000000e+00,\n",
       "        0.00000000e+00, 1.65043830e-05]),\n",
       " array([ 271.39189189,  300.0667455 ,  328.7415991 ,  357.4164527 ,\n",
       "         386.09130631,  414.76615991,  443.44101351,  472.11586712,\n",
       "         500.79072072,  529.46557432,  558.14042793,  586.81528153,\n",
       "         615.49013514,  644.16498874,  672.83984234,  701.51469595,\n",
       "         730.18954955,  758.86440315,  787.53925676,  816.21411036,\n",
       "         844.88896396,  873.56381757,  902.23867117,  930.91352477,\n",
       "         959.58837838,  988.26323198, 1016.93808559, 1045.61293919,\n",
       "        1074.28779279, 1102.9626464 , 1131.6375    ]),\n",
       " <BarContainer object of 30 artists>)"
      ]
     },
     "execution_count": 4,
     "metadata": {},
     "output_type": "execute_result"
    },
    {
     "data": {
      "image/png": "[encoded data removed]",
      "text/plain": [
       "<Figure size 640x480 with 1 Axes>"
      ]
     },
     "metadata": {},
     "output_type": "display_data"
    }
   ],
   "source": [
    "import matplotlib.pyplot as plt\n",
    "plt.hist(df['mean_RT'], bins=30, density=True, alpha=0.6, color='g')"
   ]
  },
  {
   "cell_type": "markdown",
   "id": "1ea56650",
   "metadata": {},
   "source": [
    "### Question 2. Coefficient‑Sign Predictions\n",
    "\n",
    "Assume the following linear predictor (on the link‑function scale):\n",
    "\n",
    "$\n",
    "\\text{mean_RT} =\n",
    "\\theta_0 \\;+\\; \\theta_1\\,\\text{chars}\n",
    "\\;+\\; \\theta_2\\,\\text{log_freq}\n",
    "\\;+\\; \\theta_3\\,\\text{unigram_surp}.\n",
    "$\n",
    "\n",
    "For each coefficient, indicate whether you expect it to be **positive (+)**, **negative (–)**, or **approximately zero (0)**, **and provide a one‑sentence justification**. [**1 point**]\n",
    "\n",
    "| Coefficient | Expected Sign | Justification |\n",
    "|-------------|---------------|---------------|\n",
    "| $\\theta_1$ (chars) | + | I would expect longer words to take more cognitive processing and this would slow reading time. |\n",
    "| $\\theta_2$ (log_freq) | - | I would expect more frequent words to be easier to process as a result of them being seen more commenly and thus lead to a lower reading time. |\n",
    "| $\\theta_3$ (surp) | + | Maybe suprising words would not be at front of mind and take more time to read. |\n",
    "\n",
    "---"
   ]
  },
  {
   "cell_type": "markdown",
   "id": "aebe23bf",
   "metadata": {},
   "source": [
    "### Question 3: Quick Model Checks  \n",
    "\n",
    "| Prompt | Your Response |\n",
    "|--------|---------------|\n",
    "| **3a.** Name one diagnostic plot you would examine to evaluate whether your chosen GLM fits the data well. [**1 point**] | I may use a scatter plot to see if there is some visually apparent linear relationship between the predictor and outcome variables. I could also plot the slope and intercept to see if the line seems reasonable. |\n",
    "| **3b.** Describe one approach to assess how well your model generalizes to unseen data. [**1 point**]| You could see if the trend line form the previous step (the slope and intercept line) visualally follows the scatter plot of new data or if the trend is different. You could also use and encoding-decoding framework to see you can use your previous model parameters to predict the outcomes of the new data and the quantify fit with some sort of error finction like root mean squared error. |\n",
    "\n",
    "---\n",
    "\n"
   ]
  },
  {
   "cell_type": "markdown",
   "id": "403c90b0",
   "metadata": {},
   "source": [
    "## Question 4 – Implementation Tasks\n",
    "[**4 points**]\n",
    "\n",
    "1. **Fit Two Competing Models**  \n",
    "   *Model 1*: Fit a GLM using the distribution you selected in Question 1 with all three predictors (by default choose surprisal estimates from the GLM-small model).  \n",
    "   *Model 2*: Fit another GLM using the distribution you didn't select in Question 1 with all three predictors.  \n",
    "\n",
    "2. **Compare Models**  \n",
    "   Use the diagnostic plot you suggested above to evaluate the fit of Model 1 \n",
    "   \n",
    "3. **Quantitative Metrics** \n",
    "Report a predictive‑error metric (on held-out dataset) for both models. Indicate which model performs better. \n",
    "\n",
    "4. **Assess GPT‑2 Scale Effects**  \n",
    "Using your selected GLM family, fit three separate models—each including only one surprisal predictor (`gpt2S_surp`, `gpt2B_surp`, or `gpt2L_surp`). Then compare their fits via the chosen metric on held-out data.  \n",
    "\n",
    "\n",
    "\n",
    "*Hints:*  \n",
    "- Use `pandas.read_csv` to load the data as illustrated above.  \n",
    "- Fit models with `statsmodels.api.glm`.  \n",
    "- For a train/test split, `sklearn.model_selection.train_test_split` is helpful.  \n",
    "- `sklearn.metrics` has implementations of several widely used error metrics\n",
    "- Diagnostic plots can be drawn with `matplotlib' library.   \n",
    "\n",
    "**Below is starter code with `TODO` markers—simply fill in those spots to complete your analysis.**"
   ]
  },
  {
   "cell_type": "code",
   "execution_count": 5,
   "id": "8ecee182",
   "metadata": {},
   "outputs": [],
   "source": [
    "# -----------------------------------------------------------------------\n",
    "# Helper functions for Part 2\n",
    "# -----------------------------------------------------------------------\n",
    "import pandas as pd\n",
    "import statsmodels.api as sm\n",
    "from sklearn.model_selection import train_test_split\n",
    "import numpy as np\n",
    "\n",
    "def construct_design_matrix(df, predictors, target, add_intercept=True):\n",
    "    \"\"\"\n",
    "    Build the design matrix (X) and response vector (y).\n",
    "\n",
    "    Parameters\n",
    "    ----------\n",
    "    df : pandas.DataFrame\n",
    "        The full dataset.\n",
    "    predictors : list of str\n",
    "        Column names to use as predictors.\n",
    "    target : str\n",
    "        Column name of the response variable.\n",
    "    add_intercept : bool\n",
    "        If True, adds a column of 1s for the intercept term.\n",
    "\n",
    "    Returns\n",
    "    -------\n",
    "    X : pandas.DataFrame\n",
    "    y : pandas.Series\n",
    "    \"\"\"\n",
    "    # ---------------------------------------------------------------\n",
    "    # TODO 1 – Select the predictor columns from df\n",
    "    # ---------------------------------------------------------------\n",
    "    X = df[predictors]     \n",
    "\n",
    "    # Optional intercept\n",
    "    if add_intercept:\n",
    "        X = sm.add_constant(X)\n",
    "\n",
    "    # ---------------------------------------------------------------\n",
    "    # TODO 2 – Select the target column from df\n",
    "    # ---------------------------------------------------------------\n",
    "    y = df[target]\n",
    "\n",
    "    return X, y\n",
    "\n",
    "\n",
    "def fit_glm(X, y, family_name=None):\n",
    "    \"\"\"\n",
    "    Fit a GLM using statsmodels.\n",
    "\n",
    "    Parameters\n",
    "    ----------\n",
    "    X : pandas.DataFrame\n",
    "        Design matrix (must already include an intercept column if desired).\n",
    "    y : pandas.Series\n",
    "        Response variable.\n",
    "    family_name : {\"gaussian\", \"poisson\", \"logistic\"}\n",
    "        Which GLM family to use.\n",
    "\n",
    "    Returns\n",
    "    -------\n",
    "    result : statsmodels.genmod.generalized_linear_model.GLMResults\n",
    "    \"\"\"\n",
    "    families = {\n",
    "        \"gaussian\": sm.families.Gaussian(sm.families.links.identity()),\n",
    "        \"poisson\" : sm.families.Poisson(),\n",
    "        \"logistic\": sm.families.Binomial(),\n",
    "        \"gamma\": sm.families.Gamma()\n",
    "    }\n",
    "\n",
    "    # ------------------------------------------------------------------------------------\n",
    "    # TODO 3 – Look up the correct family object and plug in the correct arguments for GLM\n",
    "    # ---------------------------------------------------------------\n",
    "    fam = families[family_name]\n",
    "    \n",
    "    # Fit the GLM: https://www.statsmodels.org/stable/glm.html\n",
    "    model = sm.GLM(y,X,family=fam)\n",
    "    result = model.fit()\n",
    "    return result"
   ]
  },
  {
   "cell_type": "code",
   "execution_count": 6,
   "id": "b6314c3e",
   "metadata": {},
   "outputs": [],
   "source": [
    "df = pd.read_csv('futrell_reading_times_dataset.csv') \n",
    "# df.head()"
   ]
  },
  {
   "cell_type": "code",
   "execution_count": 7,
   "id": "b2e9ae30",
   "metadata": {},
   "outputs": [
    {
     "name": "stdout",
     "output_type": "stream",
     "text": [
      "                 Generalized Linear Model Regression Results                  \n",
      "==============================================================================\n",
      "Dep. Variable:                mean_RT   No. Observations:                 1690\n",
      "Model:                            GLM   Df Residuals:                     1686\n",
      "Model Family:                   Gamma   Df Model:                            3\n",
      "Link Function:           InversePower   Scale:                        0.022133\n",
      "Method:                          IRLS   Log-Likelihood:                -8926.9\n",
      "Date:                Mon, 28 Apr 2025   Deviance:                       28.908\n",
      "Time:                        12:31:04   Pearson chi2:                     37.3\n",
      "No. Iterations:                     6   Pseudo R-squ. (CS):            0.09713\n",
      "Covariance Type:            nonrobust                                         \n",
      "==============================================================================\n",
      "                 coef    std err          z      P>|z|      [0.025      0.975]\n",
      "------------------------------------------------------------------------------\n",
      "const          0.0026   8.23e-05     32.091      0.000       0.002       0.003\n",
      "chars      -3.999e-05   4.52e-06     -8.851      0.000   -4.88e-05   -3.11e-05\n",
      "log_freq    7.435e-05   1.17e-05      6.346      0.000    5.14e-05    9.73e-05\n",
      "gpt2S_surp -3.615e-06   1.26e-06     -2.864      0.004   -6.09e-06   -1.14e-06\n",
      "==============================================================================\n",
      "Test metric for model 1: 3916.3005457359795\n"
     ]
    },
    {
     "name": "stderr",
     "output_type": "stream",
     "text": [
      "/Users/jonathanahern/miniconda3/envs/everything/lib/python3.12/site-packages/statsmodels/genmod/families/links.py:13: FutureWarning: The identity link alias is deprecated. Use Identity instead. The identity link alias will be removed after the 0.15.0 release.\n",
      "  warnings.warn(\n",
      "/Users/jonathanahern/miniconda3/envs/everything/lib/python3.12/site-packages/statsmodels/genmod/generalized_linear_model.py:308: DomainWarning: The InversePower link function does not respect the domain of the Gamma family.\n",
      "  warnings.warn((f\"The {type(family.link).__name__} link function \"\n"
     ]
    }
   ],
   "source": [
    "# ----------------------------------------------------------------------------\n",
    "# TODO 4 – Specify the predictors and target columns from the pandas dataframe\n",
    "# -----------------------------------------------------------------------------\n",
    "\n",
    "predictors = ['chars','log_freq','gpt2S_surp']\n",
    "target = 'mean_RT'\n",
    "X, y = construct_design_matrix(df, predictors, target)\n",
    "\n",
    "# Train‑test split (80 / 20)\n",
    "X_train, X_test, y_train, y_test = train_test_split(\n",
    "    X, y, test_size=0.2, random_state=42\n",
    ")\n",
    "\n",
    "# ------------------------------------------------------------------------------------------------------------\n",
    "# TODO 5– Fit the GLM model by specifying the X,y variables and the GLM Family that you selected in Question 1\n",
    "# ------------------------------------------------------------------------------------------------------------\n",
    "m1 = fit_glm(X_train, y_train, family_name='gamma')\n",
    "print(m1.summary())\n",
    "\n",
    "# Predict & compute test prediction error\n",
    "preds_1 = m1.predict(X_test)\n",
    "# ---------------------------------------------------------------------------------------------------------------------------------------\n",
    "# TODO 6– Compute the error metric to evaluate the goodnest of your predictions. Replace 'chosen_error_metric' with your chosen metric\n",
    "# ---------------------------------------------------------------------------------------------------------------------------------------\n",
    "metric_1 = ((y_test - preds_1)**2).mean(axis=0) # mean squared error\n",
    "print(\"Test metric for model 1:\", metric_1)\n"
   ]
  },
  {
   "cell_type": "code",
   "execution_count": 8,
   "id": "0ddd18d4",
   "metadata": {},
   "outputs": [
    {
     "name": "stdout",
     "output_type": "stream",
     "text": [
      "                 Generalized Linear Model Regression Results                  \n",
      "==============================================================================\n",
      "Dep. Variable:                mean_RT   No. Observations:                 1690\n",
      "Model:                            GLM   Df Residuals:                     1686\n",
      "Model Family:                 Poisson   Df Model:                            3\n",
      "Link Function:                    Log   Scale:                          1.0000\n",
      "Method:                          IRLS   Log-Likelihood:                -12404.\n",
      "Date:                Mon, 28 Apr 2025   Deviance:                       11764.\n",
      "Time:                        12:31:04   Pearson chi2:                 1.36e+04\n",
      "No. Iterations:                     4   Pseudo R-squ. (CS):             0.5624\n",
      "Covariance Type:            nonrobust                                         \n",
      "==============================================================================\n",
      "                 coef    std err          z      P>|z|      [0.025      0.975]\n",
      "------------------------------------------------------------------------------\n",
      "const          5.9335      0.011    558.838      0.000       5.913       5.954\n",
      "chars          0.0149      0.001     25.083      0.000       0.014       0.016\n",
      "log_freq      -0.0269      0.002    -17.825      0.000      -0.030      -0.024\n",
      "gpt2S_surp     0.0013      0.000      8.248      0.000       0.001       0.002\n",
      "==============================================================================\n",
      "Test metric for model 2: 3918.454190541206\n"
     ]
    },
    {
     "name": "stderr",
     "output_type": "stream",
     "text": [
      "/Users/jonathanahern/miniconda3/envs/everything/lib/python3.12/site-packages/statsmodels/genmod/families/links.py:13: FutureWarning: The identity link alias is deprecated. Use Identity instead. The identity link alias will be removed after the 0.15.0 release.\n",
      "  warnings.warn(\n"
     ]
    }
   ],
   "source": [
    "# ---------------------------------------------------------------------------------------------------------------------\n",
    "# TODO 7– Fit the GLM model by specifying the X,y variables and another GLM Family that you didn't select in Question 1\n",
    "# ---------------------------------------------------------------------------------------------------------------------\n",
    "m2 = fit_glm(X_train, y_train, family_name='poisson')\n",
    "print(m2.summary())\n",
    "\n",
    "# Predict & compute test prediction error\n",
    "preds_2 = m2.predict(X_test)\n",
    "\n",
    "# ------------------------------------------------------------------------------------------------------------\n",
    "# TODO 8– Compute the error metric to evaluate the goodnest of your predictions for the second model. Replace 'chosen_error_metric' with your chosen metric\n",
    "# ------------------------------------------------------------------------------------------------------------\n",
    "metric_2 = ((y_test - preds_2)**2).mean(axis=0) # mean squared error\n",
    "print(\"Test metric for model 2:\", metric_2)\n",
    "\n"
   ]
  },
  {
   "cell_type": "code",
   "execution_count": 9,
   "id": "b2cb0b17",
   "metadata": {},
   "outputs": [
    {
     "data": {
      "text/plain": [
       "596     367.220643\n",
       "1992    326.484962\n",
       "422     352.640339\n",
       "289     355.913686\n",
       "196     359.183864\n",
       "           ...    \n",
       "411     384.056580\n",
       "561     351.254723\n",
       "438     354.285418\n",
       "433     364.428089\n",
       "73      348.298125\n",
       "Length: 423, dtype: float64"
      ]
     },
     "execution_count": 9,
     "metadata": {},
     "output_type": "execute_result"
    }
   ],
   "source": [
    "preds_1"
   ]
  },
  {
   "cell_type": "code",
   "execution_count": 10,
   "id": "9809c2ef",
   "metadata": {},
   "outputs": [
    {
     "data": {
      "image/png": "[encoded data removed]",
      "text/plain": [
       "<Figure size 500x500 with 1 Axes>"
      ]
     },
     "metadata": {},
     "output_type": "display_data"
    }
   ],
   "source": [
    "\n",
    "# ------------------------------------------------------------------------------------------------------------\n",
    "# TODO 9– Add the code for diagnostic plot below to visualize the fit \n",
    "# ------------------------------------------------------------------------------------------------------------\n",
    "f, ax = plt.subplots(figsize =  (5,5)) \n",
    "residuals = y_test - preds_1\n",
    "ax.scatter(preds_1, residuals, alpha=0.5) #resduals plot\n",
    "plt.xlabel(\"Predicted Values\")\n",
    "plt.ylabel(\"Residuals\")\n",
    "plt.show()\n"
   ]
  },
  {
   "cell_type": "code",
   "execution_count": 11,
   "id": "5d5dea4b",
   "metadata": {},
   "outputs": [
    {
     "name": "stdout",
     "output_type": "stream",
     "text": [
      "gpt2S_surp →Metric: 3916.3005457359795\n",
      "gpt2B_surp →Metric: 3900.07096309042\n",
      "gpt2L_surp →Metric: 3742.7265252947855\n"
     ]
    },
    {
     "name": "stderr",
     "output_type": "stream",
     "text": [
      "/Users/jonathanahern/miniconda3/envs/everything/lib/python3.12/site-packages/statsmodels/genmod/families/links.py:13: FutureWarning: The identity link alias is deprecated. Use Identity instead. The identity link alias will be removed after the 0.15.0 release.\n",
      "  warnings.warn(\n",
      "/Users/jonathanahern/miniconda3/envs/everything/lib/python3.12/site-packages/statsmodels/genmod/generalized_linear_model.py:308: DomainWarning: The InversePower link function does not respect the domain of the Gamma family.\n",
      "  warnings.warn((f\"The {type(family.link).__name__} link function \"\n",
      "/Users/jonathanahern/miniconda3/envs/everything/lib/python3.12/site-packages/statsmodels/genmod/families/links.py:13: FutureWarning: The identity link alias is deprecated. Use Identity instead. The identity link alias will be removed after the 0.15.0 release.\n",
      "  warnings.warn(\n",
      "/Users/jonathanahern/miniconda3/envs/everything/lib/python3.12/site-packages/statsmodels/genmod/generalized_linear_model.py:308: DomainWarning: The InversePower link function does not respect the domain of the Gamma family.\n",
      "  warnings.warn((f\"The {type(family.link).__name__} link function \"\n",
      "/Users/jonathanahern/miniconda3/envs/everything/lib/python3.12/site-packages/statsmodels/genmod/families/links.py:13: FutureWarning: The identity link alias is deprecated. Use Identity instead. The identity link alias will be removed after the 0.15.0 release.\n",
      "  warnings.warn(\n",
      "/Users/jonathanahern/miniconda3/envs/everything/lib/python3.12/site-packages/statsmodels/genmod/generalized_linear_model.py:308: DomainWarning: The InversePower link function does not respect the domain of the Gamma family.\n",
      "  warnings.warn((f\"The {type(family.link).__name__} link function \"\n"
     ]
    }
   ],
   "source": [
    "\n",
    "# ------------------------------------------------------------------------------------------------------------\n",
    "# TODO 10– Fit the model with different GPT2-* models \n",
    "# ------------------------------------------------------------------------------------------------------------\n",
    "for surp in ['gpt2S_surp','gpt2B_surp','gpt2L_surp']:\n",
    "    X, y = construct_design_matrix(df, ['chars','log_freq',surp], 'mean_RT', add_intercept=True)\n",
    "    X_train, X_test, y_train, y_test = train_test_split(\n",
    "    X, y, test_size=0.2, random_state=42)\n",
    "    m = fit_glm(X_train, y_train, family_name='gamma') # picked bc it v slighlty better :)\n",
    "    preds = m.predict(X_test)\n",
    "    print(f'{surp} →Metric: {((y_test - preds)**2).mean(axis=0)}')"
   ]
  },
  {
   "cell_type": "markdown",
   "id": "30e18ea1",
   "metadata": {},
   "source": [
    "### Question 5 – Interpreting Results \n",
    "[**2 point**]\n",
    "\n",
    "(a) For the two models (with different GLM families) that you fit above, indicate which model performs better.\n",
    "\n",
    "Answer: Poisson performed very sightly better (Gaussian: 3768.52; Poisson: 3755.14).\n",
    "    \n",
    "(b) Which GPT‑2 variant yields the best predictive performance for **mean_RT**? What does this suggest about the influence of model size on predicting human reading times?  \n",
    "\n",
    "Answer: gpt2L_surp yielded the best results; this suguests that larger models do improve perfomance.\n",
    "    "
   ]
  },
  {
   "cell_type": "markdown",
   "id": "92f8d9f9",
   "metadata": {},
   "source": [
    "# Section II: Computational Modeling of Human Similarity Judgements\n",
    "\n",
    "\n",
    "**Total Points:** 10\n",
    "    \n",
    "In the paper we discussed in class (https://onlinelibrary.wiley.com/doi/10.1111/cogs.12670), Peterson and colleagues set out to bridge two worlds that have often run in parallel: the powerful feature representations learned by deep neural networks on large‐scale vision tasks, and the fine‐grained psychological spaces we infer from human similarity judgments. In classical cognitive modeling, researchers have relied on simple, low‑dimensional stimuli (colored shapes, artificial patterns) precisely because it’s tractable to infer the underlying “mental space” from human generalization data. \n",
    "\n",
    "But real‑world objects—animals, fruits, tools—live in a massively high‑dimensional space of visual variation. Deep neural networks like ResNet‑50 trained on large-scale object categorization in ImageNet discover rich feature embeddings for such images, and Peterson et al. show that those raw embeddings already predict human similarity judgments surprisingly well. Crucially, they then demonstrate that a simple transformation—a reweighting of the feature space—can correct systematic mismatches and nearly double the explained variance, bringing machine representations into close alignment with human psychological structure.\n",
    "\n",
    "This work matters for cognitive modeling because it shows how we can use powerful image features from deep neural networks to build psychological representations of real‑world objects\n",
    "\n",
    "\n",
    "**Instructions:**  \n",
    "Below we will try to loosely mimic the pipeline proposed in Peterson et al. (2018) for modeling human similarity judgements using deep neural network representations [Note that the precise neural network used for getting the embeddings varies for example]. \n"
   ]
  },
  {
   "cell_type": "markdown",
   "id": "53bdf02a",
   "metadata": {},
   "source": [
    "### Load the Human Similarity Judgements Data "
   ]
  },
  {
   "cell_type": "code",
   "execution_count": 12,
   "id": "8a27dc1e",
   "metadata": {},
   "outputs": [
    {
     "name": "stdout",
     "output_type": "stream",
     "text": [
      "Num images: 120\n",
      "Human similarity judgements matrix shape: (120, 120)\n"
     ]
    }
   ],
   "source": [
    "import scipy.io as sio\n",
    "import numpy as np\n",
    "\n",
    "data       = sio.loadmat('turkResults_CogSci2016.mat')\n",
    "idx        = data['animals_big_idx'][0]            # shape (120,)\n",
    "stim_files = [f'images/stim-{i:04d}.png' for i in idx]\n",
    "human_sim  = data['simMatrix']                     # shape (120,120)\n",
    "\n",
    "print(f\"Num images: {len(stim_files)}\")\n",
    "print(f\"Human similarity judgements matrix shape: {human_sim.shape}\")"
   ]
  },
  {
   "cell_type": "markdown",
   "id": "eb7122d5",
   "metadata": {},
   "source": [
    "### Extract DNN feature embeddings for all images\n",
    "\n",
    "***High‑Level Overview of the Feature Extraction Pipeline***\n",
    "\n",
    "This code turns a directory of images into a feature matrix **F** by:\n",
    "\n",
    "1. **Loading a pretrained ResNet‑50**  \n",
    "   - We pull in the standard ResNet‑50 model (trained on ImageNet) and drop its final classification layer, so we can tap into the 2048‑dimensional penultimate activations instead of class scores. Think of this as a high-level feature space for images. \n",
    "\n",
    "2. **Defining ImageNet‐style preprocessing**  \n",
    "   - Each image is resized (short side → 256 px), center‑cropped to 224×224, converted to a PyTorch tensor, and normalized with the ImageNet mean/std.  \n",
    "   - This ensures inputs match the distribution the network was trained on.\n",
    "\n",
    "3. **Batch‑processing each stimulus**  \n",
    "   - For every file in `stim_files`, we load and preprocess the image, run it through the truncated ResNet, and extract a single 2048‑D feature vector.\n",
    "\n",
    "4. **Building the feature matrix**  \n",
    "   - We stack all individual feature vectors into an \\(N\\times 2048\\) NumPy array **F**, where \\(N\\) is the number of stimuli.\n",
    "   \n",
    "5. **L₂‑normalizing each vector**  \n",
    "   - Finally, we scale each row of **F** to unit length. This common step makes subsequent dot‐product or cosine‐similarity calculations more stable and comparable across images.\n",
    "\n",
    "\n",
    "At the end, **F** is a clean, ready‑to‑use representation for any downstream similarity analyses or regression models.  \n"
   ]
  },
  {
   "cell_type": "code",
   "execution_count": 13,
   "id": "9ed21f49",
   "metadata": {},
   "outputs": [
    {
     "name": "stderr",
     "output_type": "stream",
     "text": [
      "/Users/jonathanahern/miniconda3/envs/everything/lib/python3.12/site-packages/torchvision/models/_utils.py:208: UserWarning: The parameter 'pretrained' is deprecated since 0.13 and may be removed in the future, please use 'weights' instead.\n",
      "  warnings.warn(\n",
      "/Users/jonathanahern/miniconda3/envs/everything/lib/python3.12/site-packages/torchvision/models/_utils.py:223: UserWarning: Arguments other than a weight enum or `None` for 'weights' are deprecated since 0.13 and may be removed in the future. The current behavior is equivalent to passing `weights=ResNet50_Weights.IMAGENET1K_V1`. You can also use `weights=ResNet50_Weights.DEFAULT` to get the most up-to-date weights.\n",
      "  warnings.warn(msg)\n"
     ]
    },
    {
     "name": "stdout",
     "output_type": "stream",
     "text": [
      "F shape: (120, 2048)\n"
     ]
    }
   ],
   "source": [
    "import torch\n",
    "from torchvision import models, transforms\n",
    "from PIL import Image\n",
    "import numpy as np\n",
    "\n",
    "# Preprocessing\n",
    "preprocess = transforms.Compose([\n",
    "    transforms.Resize(256),\n",
    "    transforms.CenterCrop(224),\n",
    "    transforms.ToTensor(),\n",
    "    transforms.Normalize(\n",
    "        mean=[0.485, 0.456, 0.406],\n",
    "        std=[0.229, 0.224, 0.225]\n",
    "    )\n",
    "])\n",
    "\n",
    "def load_img(path):\n",
    "    img = Image.open(path).convert('RGB')\n",
    "    return preprocess(img).unsqueeze(0)\n",
    "\n",
    "# Penultimate feature extractor\n",
    "resnet = models.resnet50(pretrained=True).eval()\n",
    "feat_extractor = torch.nn.Sequential(*list(resnet.children())[:-1])\n",
    "\n",
    "# TODO: Extract F of shape (120, 2048)\n",
    "F_list = []\n",
    "with torch.no_grad():\n",
    "    for p in stim_files:\n",
    "        x = load_img(p)         # [1,3,224,224]\n",
    "        h = feat_extractor(x)   # [1,2048,1,1]\n",
    "        feat = h.squeeze().cpu().numpy()\n",
    "        F_list.append(feat)\n",
    "\n",
    "F = np.vstack(F_list)\n",
    "F = F / np.linalg.norm(F, axis=1, keepdims=True)\n",
    "print(\"F shape:\", F.shape)  # should be (120, 2048)\n"
   ]
  },
  {
   "cell_type": "markdown",
   "id": "d1dd17b4",
   "metadata": {},
   "source": [
    "### Question 1: Computing and Evaluating a Model Similarity Matrix [**3 points**]\n",
    "\n",
    "\n",
    "Using the feature matrix **F** (shape 120×2048) and the human similarity matrix **human_sim** (shape 120×120) you extracted above:\n",
    "\n",
    "1. Compute the model-predicted similarity matrix  \n",
    "   \n",
    "     $S_{\\text{pred}} = F F^\\top$ \n",
    "2. Extract the non-redundant entries (e.g. below the diagonal) of both matrices.  \n",
    "3. Compute the Pearson correlation between the predicted similarities and the human judgments.\n",
    "\n",
    "**Hints:**  \n",
    "- To compute the matrix product, use `np.dot` or the `@` operator.  \n",
    "- To pull out the lower (or upper) triangle entries, look at `np.tril_indices_from` or `np.triu_indices_from`.  \n",
    "- For the correlation, you can use `scipy.stats.pearsonr` (or `np.corrcoef` and then index out the relevant entry).  \n",
    "- Report both the Pearson *r* and the associated *p*-value to assess alignment.  \n"
   ]
  },
  {
   "cell_type": "code",
   "execution_count": 14,
   "id": "764ee8a3",
   "metadata": {},
   "outputs": [
    {
     "name": "stdout",
     "output_type": "stream",
     "text": [
      "Correlation: 0.6634, p-value: 0.0000000000000000000000000000000000000000000000000000000000000000000000000000000000000000000000000000\n"
     ]
    }
   ],
   "source": [
    "mat_prod = np.dot(F, F.T)\n",
    "upper_indices = np.triu_indices_from(mat_prod, k=1)\n",
    "from scipy.stats import pearsonr\n",
    "robot = []\n",
    "woman = []\n",
    "for i, j in zip(*upper_indices):\n",
    "    robot.append(mat_prod[i,j])\n",
    "    woman.append(human_sim[i,j])\n",
    "    # corr, p = pearsonr(mat_prod[i], mat_prod[j])\n",
    "    # correlations.append(corr)\n",
    "    # ps.append(p)\n",
    "    # print(f\"Correlation between image {i} and {j}: {corr:.4f}, p-value: {p:.4f}\")\n",
    "corr, p = pearsonr(robot, woman)\n",
    "print(f\"Correlation: {corr:.4f}, p-value: {p:.100f}\")"
   ]
  },
  {
   "cell_type": "markdown",
   "id": "331c0ed4",
   "metadata": {},
   "source": [
    "### Question 2 – Feature Representation Transformation [**6 points**]\n",
    "\n",
    "Instead of using the raw inner‑product similarity $F F^\\top$, you will now learn a weight vector **w** to reweight each feature dimension so that the transformed similarity  \n",
    "$\\hat S = F\\,\\mathrm{diag}(w)\\,F^\\top$  \n",
    "better matches the human judgments, as proposed by Peterson et al. (2018).\n",
    "\n",
    "***We will first see how feature reweighting reduces to a linear regression model***\n",
    "\n",
    "Peterson et al. (2018) propose learning one scalar weight **wₖ** per DNN feature dimension **k** so that\n",
    "\n",
    "$\\hat S_{ij}\n",
    "= \\sum_{k=1}^D w_k\\,f_{ik}\\,f_{jk}\n",
    "\\quad\\Longleftrightarrow\\quad\n",
    "\\hat S = F\\,W\\,F^T,$\n",
    "\n",
    "where **F** is the $(N\\times D)$ matrix of penultimate embeddings and **W** = diag(w).\n",
    "\n",
    "1. **Define the target vector**  \n",
    "   Let $y\\in\\mathbb R^M$ list all human‐judged similarities $S^{\\mathrm{human}}_{ij}$ for the $M = \\tfrac12N(N-1)$ unique pairs $i<j$.\n",
    "\n",
    "2. **Build the design matrix**  \n",
    "   For each pair $(i,j)$, form the row  \n",
    "   $X_{(i,j),:} = [f_{i1}f_{j1},\\,f_{i2}f_{j2},\\dots,f_{iD}f_{jD}]\\in\\mathbb R^D.$  \n",
    "   Here, $f_{ik}$ denotes the activation (penultimate‐layer feature) of the k-th dimension for image i, and $f_{jk}$ likewise for image j.\n",
    "   \n",
    "   Stacking these gives an $M\\times D$ matrix **X**.\n",
    "\n",
    "3. **Write the weighted similarity**  \n",
    "   The predicted similarity for pair $(i,j)$ is  \n",
    "   $\\hat S_{ij}\n",
    "     = \\sum_{k=1}^D w_k\\,f_{ik}f_{jk}\n",
    "     = X_{(i,j),:}\\,w.$\n",
    "\n",
    "4. **Linear regression objective**  \n",
    "   To find **w**, minimize the squared error with no penalty:  \n",
    "   $\\min_w\n",
    "     \\sum_{i<j}(X_{(i,j),:}\\,w - S^{\\mathrm{human}}_{ij})^2\n",
    "     \\quad\\Longleftrightarrow\\quad\n",
    "     \\min_w \\|Xw - y\\|_2^2.$  \n",
    "   You can solve this via the normal equations $w = (X^TX)^{-1}X^T y$ or by calling  \n",
    "   `LinearRegression(fit_intercept=False)` in scikit‑learn.\n",
    "\n",
    "5. **Key takeaway**  \n",
    "   - Building **X** from elementwise products encodes each feature’s contribution.  \n",
    "   - The diagonal **W** constraint keeps the problem convex and interpretable.  \n",
    "   - Without regularization, this is linear regression and may overfit when $D$ is large relative to $M$. Note that Peterson et al (2018) minimize squared error plus an L₂ penalty on the weights to shrink them towards zero. **L₂ regularization** guards against over‑emphasizing noisy or redundant features when \\(D\\) is large and the number of pairs \\(M\\) is limited.  \n",
    "   $$\n",
    "     \\min_w\\|Xw - y\\|_2^2 + \\lambda\\|w\\|_2^2,\n",
    "   $$\n",
    "   which is ridge regression.\n",
    "\n",
    "---\n",
    "\n",
    "Below is some starter helper code containing `# TODO` markers. **Your task**: fill in all the `TODO` sections to\n",
    "\n",
    "1. build the design matrix and target vector,\n",
    "2. fit the regression model to obtain **w**,\n",
    "3. compute raw and transformed similarity matrices, and\n",
    "4. evaluate each by computing Pearson $r^2$ against the human matrix.\n"
   ]
  },
  {
   "cell_type": "code",
   "execution_count": 15,
   "id": "39fb3a96",
   "metadata": {},
   "outputs": [
    {
     "name": "stdout",
     "output_type": "stream",
     "text": [
      "Transformed similarity: r = 0.880, p = 0.00e+00, R² = 0.774\n"
     ]
    }
   ],
   "source": [
    "import numpy as np\n",
    "from sklearn.linear_model import LinearRegression\n",
    "from sklearn.model_selection import train_test_split\n",
    "from scipy.stats import pearsonr\n",
    "\n",
    "# TODO 1: load or accept F (shape N×D) and human_sim (shape N×N) \n",
    "# Extract F of shape (120, 2048)\n",
    "F_list = []\n",
    "with torch.no_grad():\n",
    "    for p in stim_files:\n",
    "        x = load_img(p)\n",
    "        h = feat_extractor(x)\n",
    "        feat = h.squeeze().cpu().numpy()\n",
    "        F_list.append(feat)\n",
    "F = np.vstack(F_list)\n",
    "F = F / np.linalg.norm(F, axis=1, keepdims=True)\n",
    "# print(\"F shape:\", F.shape)  # should be (120, 2048)\n",
    "\n",
    "# human stimulus similarity matrix\n",
    "data       = sio.loadmat('turkResults_CogSci2016.mat')\n",
    "human_sim  = data['simMatrix']                     # shape (120,120)\n",
    "\n",
    "\n",
    "def build_design_matrix_and_target(F, human_sim):\n",
    "    \"\"\"\n",
    "    Returns:\n",
    "      X: array (M, D)\n",
    "      y: array (M,)\n",
    "      idx_pairs: (i_idx, j_idx) for all i<j\n",
    "    \"\"\"\n",
    "    # TODO 1: get i_idx, j_idx for all i<j (hint: np.tril_indices)\n",
    "    i_idx, j_idx = np.tril_indices(human_sim.shape[0], k=-1)  \n",
    "\n",
    "    # TODO 2: initialize X (shape M×D) and y (shape M,)\n",
    "    M = len(i_idx)\n",
    "    D = F.shape[1]\n",
    "    X = np.zeros((M, D))\n",
    "    y = np.zeros(M)\n",
    "    \n",
    "    for m, (i, j) in enumerate(zip(i_idx, j_idx)):\n",
    "        # TODO 3: X[m] = elementwise product of F[i] and F[j]\n",
    "        X[m] = F[i] * F[j]\n",
    "        # TODO 4: y[m] = human similarity judgement for the pair (i,j)\n",
    "        y[m] = human_sim[i, j]\n",
    "    return X, y, (i_idx, j_idx)\n",
    "\n",
    "def fit_regression_weights(X, y):\n",
    "    \"\"\"\n",
    "    Fit LinearRegression(fit_intercept=False) and return w (shape D,)\n",
    "    \"\"\"\n",
    "    # TODO 5: instantiate LinearRegression(fit_intercept=False) and fit on X, y\n",
    "    model = LinearRegression(fit_intercept=False)\n",
    "    model.fit(X, y)\n",
    "\n",
    "    return model.coef_\n",
    "\n",
    "def compute_similarity_matrix(F, w=None):\n",
    "    \"\"\"\n",
    "    If w is None: return raw F @ F.T\n",
    "    Else: return transformed (F * w) @ F.T\n",
    "    \"\"\"\n",
    "    # TODO 6: implement raw vs. transformed similarity\n",
    "    if w is None:\n",
    "        S = np.dot(F, F.T)\n",
    "    else:\n",
    "        F_transformed = F * w\n",
    "        S = np.dot(F_transformed, F.T)\n",
    "    return S\n",
    "\n",
    "def evaluate_similarity(S_pred, human_sim, idx_pairs):\n",
    "    \"\"\"\n",
    "    Compute Pearson r and r^2 between lower-triangle entries of S_pred and human_sim.\n",
    "    \"\"\"\n",
    "    i_idx, j_idx = idx_pairs\n",
    "    # TODO 7: extract pred_vals (predicted similarity judgements)\n",
    "    pred_vals = S_pred[i_idx, j_idx]\n",
    "    # TODO 8: extract true_vals (human similarity judgements)\n",
    "    true_vals = human_sim[i_idx, j_idx]\n",
    "    r, p = pearsonr(pred_vals, true_vals)\n",
    "    return r, p, r**2\n",
    "\n",
    "\n",
    "# === Example pipeline with one train/test split === #\n",
    "\n",
    "# 1) Build full design matrix and target\n",
    "X, y, (i_idx, j_idx) = build_design_matrix_and_target(F, human_sim)\n",
    "\n",
    "\n",
    "# 2) Split into train/test pairs\n",
    "M = X.shape[0]\n",
    "train_idx, test_idx = train_test_split(np.arange(M), test_size=0.2, random_state=0)\n",
    "\n",
    "X_train = X[train_idx]\n",
    "y_train = y[train_idx]\n",
    "test_pairs = (i_idx[test_idx], j_idx[test_idx])\n",
    "\n",
    "# 3) Fit on training pairs only\n",
    "w = fit_regression_weights(X_train, y_train)\n",
    "\n",
    "# 4) Compute transformed similarity matrix\n",
    "S_trans = compute_similarity_matrix(F, w)\n",
    "\n",
    "# 5) Evaluate on the held‑out test pairs\n",
    "r_trans, p_trans, R2_trans = evaluate_similarity(S_trans, human_sim, test_pairs)\n",
    "\n",
    "print(f\"Transformed similarity: r = {r_trans:.3f}, p = {p_trans:.2e}, R² = {R2_trans:.3f}\")"
   ]
  },
  {
   "cell_type": "markdown",
   "id": "c22818ee",
   "metadata": {},
   "source": [
    "### Question 3 [**1 point**]\n",
    "\n",
    "**Which representation—raw or transformed—performs better in capturing human similarity judgements, and why?**\n",
    "\n",
    "Answer: The transfromed version perfomed better. This maybe because by weighting the model features you make the model featuers more interpitaby similar to human salient features. "
   ]
  }
 ],
 "metadata": {
  "kernelspec": {
   "display_name": "Python 3 (ipykernel)",
   "language": "python",
   "name": "python3"
  },
  "language_info": {
   "codemirror_mode": {
    "name": "ipython",
    "version": 3
   },
   "file_extension": ".py",
   "mimetype": "text/x-python",
   "name": "python",
   "nbconvert_exporter": "python",
   "pygments_lexer": "ipython3",
   "version": "3.12.2"
  }
 },
 "nbformat": 4,
 "nbformat_minor": 5
}
